{
 "cells": [
  {
   "cell_type": "markdown",
   "id": "b3179b97-1d53-4225-8e20-e0805ed3f67c",
   "metadata": {},
   "source": [
    "# Transportation\n",
    "\n",
    "Orbital ring systems provide unique experiences and capabilities for travel. To understand just how unique, let's take a journey into a hypothetical experience.\n",
    "\n",
    "## Mara's Day\n",
    "\n",
    "Mara's morning kicked off in her cozy Eixample apartment in downtown Barcelona with a ritual of affectionate scritches for her cat, followed by serving up his favorite breakfast. After suiting up for the day and snagging a quick drink from her favorite café downstairs, she was on her way to a pivotal meeting. Her team, converging from across the globe, was gearing up to charm a potential client in Los Angeles.\n",
    "\n",
    "A brisk walk took Mara to the metro, and she seamlessly transferred to the local ring station after a short ride. She breezed through security, passport in hand, double-checking her phone to ensure she boarded the correct train; mixing them up would only tack on an extra half hour, but who needs that extra stress?\n",
    "\n",
    "Settling into the train to the San Francisco-Barcelona-Algiers-Nairobi ring, Mara was soon immersed in her phone as the passengers streamed in. The subtle shift of the train tilting backward marked their ascent. Within moments, the landscape of Barcelona shrank to a speck, disappearing as they pierced the clouds. The initial gentle press into her seat reminiscent of an airplane takeoff soon eased as they reached their cruising velocity in space.\n",
    "\n",
    "Just over 30 minutes later, Mara disembarked and navigated her way to the North American West Coast Express. Skipping stops like Dublin and Winnipeg, she appreciated the direct route's efficiency, reminiscent of the New York subway but with none of the odor and much more comfort.\n",
    "\n",
    "Forty-five minutes of breathtaking views of the Arctic later, Mara touched down in San Francisco. She promptly followed the signs to the westbound local, grabbed another quick coffee, and took an elevator to the lower ring.\n",
    "\n",
    "The local eastbound whisked her to LA in just one stop. A quick passport scan later, she took one train down to the ground and emerged from the station to face her final adversary: the infamous LA traffic.\n",
    "\n",
    "Clocking the entire journey from Barcelona to LA at just over two hours, Mara mused on the ubiquity of space travel; she was far from the only person commuting through the cosmos that day."
   ]
  }
 ],
 "metadata": {
  "kernelspec": {
   "display_name": "Python 3 (ipykernel)",
   "language": "python",
   "name": "python3"
  },
  "language_info": {
   "codemirror_mode": {
    "name": "ipython",
    "version": 3
   },
   "file_extension": ".py",
   "mimetype": "text/x-python",
   "name": "python",
   "nbconvert_exporter": "python",
   "pygments_lexer": "ipython3",
   "version": "3.10.12"
  }
 },
 "nbformat": 4,
 "nbformat_minor": 5
}
