{
 "cells": [
  {
   "cell_type": "markdown",
   "id": "a4bacb38-b687-4c1f-84d2-16db5baf8733",
   "metadata": {},
   "source": [
    "# CO<sub>2</sub> Reduction\n",
    "\n",
    "In the first chapter, we make the bold claim that a fully deployed orbital ring system would allow us to reduce global CO<sub>2</sub> emissions by 50%. In this chapter, we'll justify that claim.\n",
    "\n",
    "## What Are The Sources Of CO2?\n",
    "\n",
    "According to the IPCC (2022) (XXX: Add citation), here are the sources of greenhouse gas emissions (XXX: regularize this to just CO2) as of 2019:\n",
    "\n",
    "- Electricity and heat production: 34%\n",
    "- Industry: 24%\n",
    "- Agriculture, forestry, and other land use: 22%\n",
    "- Transportation: 15%\n",
    "- Buildings: 6%"
   ]
  },
  {
   "cell_type": "code",
   "execution_count": null,
   "id": "21f144a3-2973-42aa-9087-e9524e986975",
   "metadata": {},
   "outputs": [],
   "source": []
  }
 ],
 "metadata": {
  "kernelspec": {
   "display_name": "Python 3 (ipykernel)",
   "language": "python",
   "name": "python3"
  },
  "language_info": {
   "codemirror_mode": {
    "name": "ipython",
    "version": 3
   },
   "file_extension": ".py",
   "mimetype": "text/x-python",
   "name": "python",
   "nbconvert_exporter": "python",
   "pygments_lexer": "ipython3",
   "version": "3.10.12"
  }
 },
 "nbformat": 4,
 "nbformat_minor": 5
}
